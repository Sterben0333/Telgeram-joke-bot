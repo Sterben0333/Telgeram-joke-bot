{
 "cells": [
  {
   "cell_type": "code",
   "execution_count": 1,
   "id": "baf954ac",
   "metadata": {},
   "outputs": [
    {
     "data": {
      "text/plain": [
       "True"
      ]
     },
     "execution_count": 1,
     "metadata": {},
     "output_type": "execute_result"
    }
   ],
   "source": [
    "import os\n",
    "from dotenv import load_dotenv\n",
    "load_dotenv()"
   ]
  },
  {
   "cell_type": "code",
   "execution_count": 2,
   "id": "5b84eba9",
   "metadata": {},
   "outputs": [],
   "source": [
    "os.environ[\"LANGCHAIN_API_KEY\"]=os.getenv(\"LANGCHAIN_API_KEY\")\n"
   ]
  },
  {
   "cell_type": "code",
   "execution_count": 3,
   "id": "74464a23",
   "metadata": {},
   "outputs": [],
   "source": [
    "groq_api_key = os.getenv(\"GROQ_API_KEY\")"
   ]
  },
  {
   "cell_type": "code",
   "execution_count": 4,
   "id": "1db1fcc3",
   "metadata": {},
   "outputs": [
    {
     "data": {
      "text/plain": [
       "'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'"
      ]
     },
     "execution_count": 4,
     "metadata": {},
     "output_type": "execute_result"
    }
   ],
   "source": [
    "groq_api_key"
   ]
  },
  {
   "cell_type": "code",
   "execution_count": 5,
   "id": "35497bc4",
   "metadata": {},
   "outputs": [],
   "source": [
    "from langchain_groq import ChatGroq "
   ]
  },
  {
   "cell_type": "code",
   "execution_count": 6,
   "id": "baaebe50",
   "metadata": {},
   "outputs": [],
   "source": [
    "model = ChatGroq(model =\"Gemma2-9b-It\", groq_api_key=groq_api_key)"
   ]
  },
  {
   "cell_type": "code",
   "execution_count": 7,
   "id": "ba1a91f8",
   "metadata": {},
   "outputs": [
    {
     "data": {
      "text/plain": [
       "ChatGroq(client=<groq.resources.chat.completions.Completions object at 0x000001DE812E5D50>, async_client=<groq.resources.chat.completions.AsyncCompletions object at 0x000001DE812F4B10>, model_name='Gemma2-9b-It', model_kwargs={}, groq_api_key=SecretStr('**********'))"
      ]
     },
     "execution_count": 7,
     "metadata": {},
     "output_type": "execute_result"
    }
   ],
   "source": [
    "model"
   ]
  },
  {
   "cell_type": "code",
   "execution_count": 8,
   "id": "86570538",
   "metadata": {},
   "outputs": [
    {
     "data": {
      "text/plain": [
       "AIMessage(content='Hello! 👋 \\n\\nWhat can I do for you today? 😊\\n', additional_kwargs={}, response_metadata={'token_usage': {'completion_tokens': 17, 'prompt_tokens': 11, 'total_tokens': 28, 'completion_time': 0.030909091, 'prompt_time': 0.001912846, 'queue_time': 0.245747359, 'total_time': 0.032821937}, 'model_name': 'Gemma2-9b-It', 'system_fingerprint': 'fp_10c08bf97d', 'finish_reason': 'stop', 'logprobs': None}, id='run--c6396c58-01a9-40ca-94da-9ed74a09f10e-0', usage_metadata={'input_tokens': 11, 'output_tokens': 17, 'total_tokens': 28})"
      ]
     },
     "execution_count": 8,
     "metadata": {},
     "output_type": "execute_result"
    }
   ],
   "source": [
    "model.invoke(\"Hello model\")"
   ]
  },
  {
   "cell_type": "code",
   "execution_count": 9,
   "id": "947cf826",
   "metadata": {},
   "outputs": [
    {
     "data": {
      "text/plain": [
       "AIMessage(content='Machine learning is a fascinating field within artificial intelligence (AI) where computers learn from data without being explicitly programmed.\\n\\n**Here\\'s a breakdown:**\\n\\n* **Learning from Data:** Instead of relying on specific instructions, machine learning algorithms analyze vast amounts of data to identify patterns, relationships, and trends.\\n\\n* **Improving Over Time:** As the algorithm processes more data, it refines its understanding and becomes better at making predictions or decisions. This is called \"training.\"\\n\\n* **Types of Machine Learning:**\\n    * **Supervised Learning:** The algorithm learns from labeled data (e.g., images tagged with \"cat\" or \"dog\"). It uses this labeled data to predict outcomes for new, unseen data.\\n    * **Unsupervised Learning:** The algorithm explores unlabeled data to discover hidden structures, groupings, or anomalies.\\n\\n    * **Reinforcement Learning:** The algorithm learns through trial and error, receiving rewards for correct actions and penalties for incorrect ones.\\n\\n**Examples of Machine Learning in Action:**\\n\\n* **Recommendation Systems:** Netflix suggesting movies you might like, Spotify creating personalized playlists.\\n* **Image Recognition:** Facial recognition software, self-driving cars identifying objects.\\n* **Spam Filtering:** Identifying and blocking unwanted emails.\\n* **Fraud Detection:**  Flagging suspicious transactions in financial systems.\\n* **Medical Diagnosis:** Assisting doctors in analyzing medical images and patient data.\\n\\n**Key Benefits of Machine Learning:**\\n\\n* **Automation:** Automating tasks that would be time-consuming or difficult for humans.\\n* **Personalization:** Providing tailored experiences to individual users.\\n* **Improved Accuracy:** Often surpassing human performance in tasks involving pattern recognition.\\n* **Data-Driven Insights:** Uncovering hidden patterns and insights from large datasets.\\n\\n**In essence, machine learning empowers computers to learn from experience and make intelligent decisions, transforming various industries and aspects of our lives.**\\n', additional_kwargs={}, response_metadata={'token_usage': {'completion_tokens': 390, 'prompt_tokens': 13, 'total_tokens': 403, 'completion_time': 0.709090909, 'prompt_time': 0.001915756, 'queue_time': 0.242130133, 'total_time': 0.711006665}, 'model_name': 'Gemma2-9b-It', 'system_fingerprint': 'fp_10c08bf97d', 'finish_reason': 'stop', 'logprobs': None}, id='run--dd7872a8-0b30-4417-89e4-9cda4263fd40-0', usage_metadata={'input_tokens': 13, 'output_tokens': 390, 'total_tokens': 403})"
      ]
     },
     "execution_count": 9,
     "metadata": {},
     "output_type": "execute_result"
    }
   ],
   "source": [
    "model.invoke(\" what is machine learning\")"
   ]
  },
  {
   "cell_type": "code",
   "execution_count": 10,
   "id": "4f865738",
   "metadata": {},
   "outputs": [],
   "source": [
    "from langchain_core.prompts import ChatPromptTemplate"
   ]
  },
  {
   "cell_type": "code",
   "execution_count": 11,
   "id": "25faff77",
   "metadata": {},
   "outputs": [],
   "source": [
    "prompt=ChatPromptTemplate(\n",
    "    [\n",
    "        (\"system\",\"You are a standup comedian, just give me a joke on the given topic\"),\n",
    "        (\"user\",\"topic:{topic}\")\n",
    "    ]\n",
    ")"
   ]
  },
  {
   "cell_type": "code",
   "execution_count": 12,
   "id": "eaf0208a",
   "metadata": {},
   "outputs": [
    {
     "data": {
      "text/plain": [
       "ChatPromptValue(messages=[SystemMessage(content='You are a standup comedian, just give me a joke on the given topic', additional_kwargs={}, response_metadata={}), HumanMessage(content='topic:content=\\'\"Computer\" is a very broad term! To give you a helpful response, I need you to be more specific.  \\\\n\\\\nWhat about computers are you interested in? For example, are you curious about:\\\\n\\\\n* **The history of computers?**\\\\n* **How computers work?**\\\\n* **Different types of computers?** (e.g., laptops, desktops, servers)\\\\n* **Specific computer programs or software?**\\\\n* **Careers in computer science?**\\\\n* **The ethical implications of artificial intelligence?**\\\\n\\\\nOnce you tell me what you\\\\\\'d like to know, I can give you a more informative and relevant answer. 😊 \\\\n\\\\n\\' additional_kwargs={} response_metadata={\\'token_usage\\': {\\'completion_tokens\\': 139, \\'prompt_tokens\\': 11, \\'total_tokens\\': 150, \\'completion_time\\': 0.252727273, \\'prompt_time\\': 0.002094155, \\'queue_time\\': 0.243969961, \\'total_time\\': 0.254821428}, \\'model_name\\': \\'Gemma2-9b-It\\', \\'system_fingerprint\\': \\'fp_10c08bf97d\\', \\'finish_reason\\': \\'stop\\', \\'logprobs\\': None} id=\\'run--1e6c0417-86c3-42f8-af63-e8432689f514-0\\' usage_metadata={\\'input_tokens\\': 11, \\'output_tokens\\': 139, \\'total_tokens\\': 150}', additional_kwargs={}, response_metadata={})])"
      ]
     },
     "execution_count": 12,
     "metadata": {},
     "output_type": "execute_result"
    }
   ],
   "source": [
    "prompt.invoke(model.invoke(\"computer\"))"
   ]
  },
  {
   "cell_type": "code",
   "execution_count": 13,
   "id": "3f353695",
   "metadata": {},
   "outputs": [],
   "source": [
    "from langchain_core.output_parsers import StrOutputParser"
   ]
  },
  {
   "cell_type": "code",
   "execution_count": 14,
   "id": "43280c83",
   "metadata": {},
   "outputs": [],
   "source": [
    "ouptut_parser=StrOutputParser()"
   ]
  },
  {
   "cell_type": "code",
   "execution_count": 15,
   "id": "417b684a",
   "metadata": {},
   "outputs": [],
   "source": [
    "chain=prompt|model|ouptut_parser"
   ]
  },
  {
   "cell_type": "code",
   "execution_count": 16,
   "id": "3e315932",
   "metadata": {},
   "outputs": [
    {
     "data": {
      "text/plain": [
       "\"Why did the machine learning model get lost in the woods?\\n\\nBecause it couldn't see the forest for the trees...data!  🌳🤖😂 \\n\""
      ]
     },
     "execution_count": 16,
     "metadata": {},
     "output_type": "execute_result"
    }
   ],
   "source": [
    "chain.invoke(\"machine learning\")"
   ]
  },
  {
   "cell_type": "code",
   "execution_count": 17,
   "id": "9d7a7dd0",
   "metadata": {},
   "outputs": [
    {
     "data": {
      "text/plain": [
       "\"Why did the computer get glasses?  \\n\\nBecause it couldn't C# !  😂 \\n\""
      ]
     },
     "execution_count": 17,
     "metadata": {},
     "output_type": "execute_result"
    }
   ],
   "source": [
    "topic = input()\n",
    "chain.invoke({\"topic\":topic})"
   ]
  }
 ],
 "metadata": {
  "kernelspec": {
   "display_name": "env",
   "language": "python",
   "name": "python3"
  },
  "language_info": {
   "codemirror_mode": {
    "name": "ipython",
    "version": 3
   },
   "file_extension": ".py",
   "mimetype": "text/x-python",
   "name": "python",
   "nbconvert_exporter": "python",
   "pygments_lexer": "ipython3",
   "version": "3.11.6"
  }
 },
 "nbformat": 4,
 "nbformat_minor": 5
}
